{
 "cells": [
  {
   "cell_type": "markdown",
   "id": "e748ddae",
   "metadata": {},
   "source": [
    "# Assignment 1"
   ]
  },
  {
   "cell_type": "markdown",
   "id": "5608192d",
   "metadata": {},
   "source": [
    "## 09-03-2022 "
   ]
  },
  {
   "cell_type": "markdown",
   "id": "6e620dba",
   "metadata": {},
   "source": [
    "**Vy La**"
   ]
  },
  {
   "cell_type": "markdown",
   "id": "f3d4e6c8",
   "metadata": {},
   "source": [
    "List of most commonly used programing languages:\n",
    "- JavaScript\n",
    "- Python\n",
    "- HTML\n",
    "- CSS\n",
    "- Java\n",
    "- SQL\n",
    "- C#\n",
    "- ..."
   ]
  },
  {
   "cell_type": "markdown",
   "id": "1ffe6dad",
   "metadata": {},
   "source": [
    "| Intermediate Devices | End Devices | Media |\n",
    "| ----- | ----- | ----- |\n",
    "| Wireless Router | Desktop Computer | Wireless Media |\n",
    "| LAN Switch | Laptop | LAN Media |\n",
    "| Router | Printer | WAN Media |\n",
    "| Multilayer Switch | IP Phone |     |\n",
    "| Firewall Appliance | Wireless Table |     |\n",
    "|     | TelePresense Endpoint |     |"
   ]
  },
  {
   "cell_type": "code",
   "execution_count": 1,
   "id": "6f2f36ac",
   "metadata": {},
   "outputs": [
    {
     "name": "stdout",
     "output_type": "stream",
     "text": [
      "Vy La\n"
     ]
    }
   ],
   "source": [
    "print('Vy La')"
   ]
  },
  {
   "cell_type": "code",
   "execution_count": 2,
   "id": "d9311b02",
   "metadata": {},
   "outputs": [
    {
     "name": "stdout",
     "output_type": "stream",
     "text": [
      "Your Name: Vy\n",
      "Hello Vy\n"
     ]
    }
   ],
   "source": [
    "a=input('Your Name: ')\n",
    "print('Hello',a)"
   ]
  },
  {
   "cell_type": "code",
   "execution_count": 3,
   "id": "797007a2",
   "metadata": {},
   "outputs": [
    {
     "name": "stdout",
     "output_type": "stream",
     "text": [
      "Insert 1st number: 7\n",
      "Insert 2nd number: 3\n",
      "Sum of 7 and 3 = 10\n"
     ]
    }
   ],
   "source": [
    "x=int(input('Insert 1st number: '))\n",
    "y=int(input('Insert 2nd number: '))\n",
    "print('Sum of',x,'and',y,'=',x+y)"
   ]
  },
  {
   "cell_type": "code",
   "execution_count": null,
   "id": "fbeee301",
   "metadata": {},
   "outputs": [],
   "source": []
  }
 ],
 "metadata": {
  "kernelspec": {
   "display_name": "Python 3 (ipykernel)",
   "language": "python",
   "name": "python3"
  },
  "language_info": {
   "codemirror_mode": {
    "name": "ipython",
    "version": 3
   },
   "file_extension": ".py",
   "mimetype": "text/x-python",
   "name": "python",
   "nbconvert_exporter": "python",
   "pygments_lexer": "ipython3",
   "version": "3.9.7"
  }
 },
 "nbformat": 4,
 "nbformat_minor": 5
}
